{
  "nbformat": 4,
  "nbformat_minor": 0,
  "metadata": {
    "colab": {
      "provenance": [],
      "collapsed_sections": [
        "vMfmws3-4oEO",
        "YgRHAKD-HuWb"
      ],
      "authorship_tag": "ABX9TyObtiF4454tXD/LtXvyT+bE",
      "include_colab_link": true
    },
    "kernelspec": {
      "name": "python3",
      "display_name": "Python 3"
    },
    "language_info": {
      "name": "python"
    }
  },
  "cells": [
    {
      "cell_type": "markdown",
      "metadata": {
        "id": "view-in-github",
        "colab_type": "text"
      },
      "source": [
        "<a href=\"https://colab.research.google.com/github/SchmidtdIlya/Attempt_optimizer/blob/main/attempt5.ipynb\" target=\"_parent\"><img src=\"https://colab.research.google.com/assets/colab-badge.svg\" alt=\"Open In Colab\"/></a>"
      ]
    },
    {
      "cell_type": "markdown",
      "source": [
        "----\n",
        "#Гамильтониан на scipy\n",
        "\n"
      ],
      "metadata": {
        "id": "vMfmws3-4oEO"
      }
    },
    {
      "cell_type": "code",
      "source": [
        "from scipy.sparse import linalg\n",
        "from scipy import sparse\n",
        "def sigma_k(k,n):\n",
        "    left=sparse.eye(2**k)\n",
        "    right=sparse.eye(2**(n-1-k))\n",
        "    c=sparse.kron(left,sparse.csr_matrix(np.array([[1,0],[0,-1]])))\n",
        "    return sparse.kron(c,right)\n",
        "def ising(J,h,N):\n",
        "    r=sparse.csr_matrix((2**N,2**N))\n",
        "    for i in range(N-1):\n",
        "        r+=J*sigma_k(i,N)*sigma_k(i+1,N)\n",
        "        r-=h*sigma_k(i,N)\n",
        "    r-=h*sigma_k(N-1,N)\n",
        "    return r"
      ],
      "metadata": {
        "id": "ALMjhTJN0Zi9"
      },
      "execution_count": null,
      "outputs": []
    },
    {
      "cell_type": "code",
      "source": [
        "example=ising(-0.5,1.13,20)\n",
        "solut=linalg.eigs(example,k=19,which='SR')"
      ],
      "metadata": {
        "id": "_llF-aicydwO"
      },
      "execution_count": null,
      "outputs": []
    },
    {
      "cell_type": "code",
      "source": [
        "solut[0].min()"
      ],
      "metadata": {
        "colab": {
          "base_uri": "https://localhost:8080/"
        },
        "id": "jO6UIt2937C6",
        "outputId": "3c67c093-3b7f-4b68-85be-ceb578dcd827"
      },
      "execution_count": null,
      "outputs": [
        {
          "output_type": "execute_result",
          "data": {
            "text/plain": [
              "(-32.0999999999999+0j)"
            ]
          },
          "metadata": {},
          "execution_count": 54
        }
      ]
    },
    {
      "cell_type": "code",
      "source": [
        "val, vecs = eigsh(example, k=19, which='SA')\n",
        "val.min()"
      ],
      "metadata": {
        "colab": {
          "base_uri": "https://localhost:8080/"
        },
        "id": "Ca1cR4t_2Ajn",
        "outputId": "c28bf060-c1ef-497a-8910-1b05950ce540"
      },
      "execution_count": null,
      "outputs": [
        {
          "output_type": "execute_result",
          "data": {
            "text/plain": [
              "-32.09999999999991"
            ]
          },
          "metadata": {},
          "execution_count": 53
        }
      ]
    },
    {
      "cell_type": "code",
      "source": [
        "solut[0]"
      ],
      "metadata": {
        "colab": {
          "base_uri": "https://localhost:8080/"
        },
        "id": "rb4RMstR1Gzd",
        "outputId": "7f6a3109-c2a8-441a-d68e-50eb61b75322"
      },
      "execution_count": null,
      "outputs": [
        {
          "output_type": "execute_result",
          "data": {
            "text/plain": [
              "array([-32.1 +0.00000000e+00j, -28.84+0.00000000e+00j,\n",
              "       -28.84+0.00000000e+00j, -27.84+0.00000000e+00j,\n",
              "       -27.84+0.00000000e+00j, -27.84+0.00000000e+00j,\n",
              "       -26.58+0.00000000e+00j, -27.84+0.00000000e+00j,\n",
              "       -26.58+0.00000000e+00j, -27.84+0.00000000e+00j,\n",
              "       -27.84+0.00000000e+00j, -27.84+0.00000000e+00j,\n",
              "       -27.84+0.00000000e+00j, -27.84+0.00000000e+00j,\n",
              "       -27.84+0.00000000e+00j, -27.84+0.00000000e+00j,\n",
              "       -27.84+1.17830183e-14j, -27.84-1.17830183e-14j,\n",
              "       -27.84+0.00000000e+00j])"
            ]
          },
          "metadata": {},
          "execution_count": 43
        }
      ]
    },
    {
      "cell_type": "code",
      "source": [
        "p=solut[1]*solut[1].conj()\n",
        "def to_bit(p):\n",
        "    size=int(np.log2(p.shape[0]))\n",
        "    bit_num=np.where(p==p.max())[0][0]\n",
        "    s=f\"{ bit_num:b}\"\n",
        "    s=\"0\"*(size-len(s))+s\n",
        "    return s"
      ],
      "metadata": {
        "id": "YO8wLveP6P92"
      },
      "execution_count": null,
      "outputs": []
    },
    {
      "cell_type": "code",
      "source": [
        "to_bit(p)"
      ],
      "metadata": {
        "colab": {
          "base_uri": "https://localhost:8080/",
          "height": 35
        },
        "id": "GjSFtZD_9atg",
        "outputId": "5ccbcf4e-0d32-4e11-e725-9fb56f51d043"
      },
      "execution_count": null,
      "outputs": [
        {
          "output_type": "execute_result",
          "data": {
            "text/plain": [
              "'00000000000000000000'"
            ],
            "application/vnd.google.colaboratory.intrinsic+json": {
              "type": "string"
            }
          },
          "metadata": {},
          "execution_count": 130
        }
      ]
    },
    {
      "cell_type": "markdown",
      "source": [
        "#Разное взаимодействие"
      ],
      "metadata": {
        "id": "YgRHAKD-HuWb"
      }
    },
    {
      "cell_type": "code",
      "source": [
        "j=np.array([ 7., -5., -4.,  1.,  3.,  3.,  6.,  7.,  2.,  8.,  4.,  \n",
        "        -0.1, -1.,  8.,  6.,  4., -1., 7.,  9.,  7.])"
      ],
      "metadata": {
        "id": "GsoLegDZD5EC"
      },
      "execution_count": null,
      "outputs": []
    },
    {
      "cell_type": "code",
      "source": [
        "def ising(J,h,N):\n",
        "    r=sparse.csr_matrix((2**N,2**N))\n",
        "    for i in range(N-1):\n",
        "        r+=J[i]*sigma_k(i,N)*sigma_k(i+1,N)\n",
        "        r-=h*sigma_k(i,N)\n",
        "    r-=h*sigma_k(N-1,N)\n",
        "    return r\n",
        "at2=ising(j,0,20)\n",
        "val, vecs = eigsh(at2, k=1, which='SA')\n",
        "val.min()"
      ],
      "metadata": {
        "colab": {
          "base_uri": "https://localhost:8080/"
        },
        "id": "6eTdaG8tDteH",
        "outputId": "9f4b4708-05f3-4689-b853-1fba7c307f01"
      },
      "execution_count": null,
      "outputs": [
        {
          "output_type": "execute_result",
          "data": {
            "text/plain": [
              "-86.09999999999982"
            ]
          },
          "metadata": {},
          "execution_count": 145
        }
      ]
    },
    {
      "cell_type": "code",
      "source": [
        "to_bit(vecs)"
      ],
      "metadata": {
        "colab": {
          "base_uri": "https://localhost:8080/",
          "height": 35
        },
        "id": "g0MG1LlTFDuE",
        "outputId": "f3d061d5-871c-41de-8c10-3ceaa3e12297"
      },
      "execution_count": null,
      "outputs": [
        {
          "output_type": "execute_result",
          "data": {
            "text/plain": [
              "'10001010101000101101'"
            ],
            "application/vnd.google.colaboratory.intrinsic+json": {
              "type": "string"
            }
          },
          "metadata": {},
          "execution_count": 146
        }
      ]
    },
    {
      "cell_type": "code",
      "source": [
        "eigenvalues, eigenvectors = np.linalg.eig(H_matrix)\n",
        "eigenvalues, eigenvectors"
      ],
      "metadata": {
        "colab": {
          "base_uri": "https://localhost:8080/"
        },
        "id": "2q3TIeQkaYQ2",
        "outputId": "96d93f1a-1adf-4ceb-8192-1a77536ae929"
      },
      "execution_count": null,
      "outputs": [
        {
          "output_type": "execute_result",
          "data": {
            "text/plain": [
              "(array([-2.82842712, -2.        ,  2.82842712,  2.        ]),\n",
              " array([[ 6.53281482e-01, -7.07106781e-01,  2.70598050e-01,\n",
              "          6.02732551e-17],\n",
              "        [-2.70598050e-01, -4.33532422e-16,  6.53281482e-01,\n",
              "          7.07106781e-01],\n",
              "        [-2.70598050e-01, -5.85556840e-16,  6.53281482e-01,\n",
              "         -7.07106781e-01],\n",
              "        [ 6.53281482e-01,  7.07106781e-01,  2.70598050e-01,\n",
              "          2.26806709e-16]]))"
            ]
          },
          "metadata": {},
          "execution_count": 8
        }
      ]
    },
    {
      "cell_type": "markdown",
      "source": [
        "\n",
        "\n",
        "---\n",
        "\n",
        "#Использование драйвера оптимизации NetKet\n"
      ],
      "metadata": {
        "id": "1MGvNm_Kstwc"
      }
    },
    {
      "cell_type": "code",
      "source": [
        "import netket as nk\n",
        "import numpy as np\n",
        "import jax\n",
        "from netket.operator.spin import sigmax,sigmaz #,sigmay\n",
        "from scipy.sparse.linalg import eigsh\n",
        "import matplotlib.pyplot as plt"
      ],
      "metadata": {
        "id": "lEKd0SSydoKD"
      },
      "execution_count": null,
      "outputs": []
    },
    {
      "cell_type": "code",
      "source": [
        "import os \n",
        "os.environ[\"JAX_PLATFOR_NAME\"]=\"gpu\""
      ],
      "metadata": {
        "id": "XSsY9czLdtII"
      },
      "execution_count": null,
      "outputs": []
    },
    {
      "cell_type": "code",
      "source": [
        "N=10\n",
        "at=nk.hilbert.Spin(s=0.5,N=N)\n",
        "one=at.random_state(jax.random.PRNGKey(0),3)\n",
        "one"
      ],
      "metadata": {
        "colab": {
          "base_uri": "https://localhost:8080/"
        },
        "id": "WWos1X4keFQw",
        "outputId": "ad86ecb9-d034-4390-8f4e-9fb50b84eb6d"
      },
      "execution_count": null,
      "outputs": [
        {
          "output_type": "execute_result",
          "data": {
            "text/plain": [
              "DeviceArray([[ 1.,  1.,  1.,  1., -1.,  1., -1.,  1., -1.,  1.],\n",
              "             [ 1., -1.,  1., -1., -1.,  1., -1., -1., -1.,  1.],\n",
              "             [-1.,  1., -1., -1., -1.,  1., -1., -1.,  1., -1.]],            dtype=float32)"
            ]
          },
          "metadata": {},
          "execution_count": 5
        }
      ]
    },
    {
      "cell_type": "code",
      "source": [
        "J=-0.5\n",
        "H=sum([J*sigmax(at,i)for i in range(N)])\n",
        "H"
      ],
      "metadata": {
        "colab": {
          "base_uri": "https://localhost:8080/"
        },
        "id": "VdWAXgpvf7YB",
        "outputId": "ff21d1dc-5e68-4780-d9cb-fbbdee476b08"
      },
      "execution_count": null,
      "outputs": [
        {
          "output_type": "execute_result",
          "data": {
            "text/plain": [
              "LocalOperator(dim=10, #acting_on=10 locations, constant=0.0, dtype=float64)"
            ]
          },
          "metadata": {},
          "execution_count": 4
        }
      ]
    },
    {
      "cell_type": "code",
      "source": [
        "E=-1\n",
        "H+=sum([E*sigmaz(at,i)*sigmaz(at,(i+1)%N)for i in range (N)])\n",
        "sm=H.to_sparse() #разряженная матрица\n",
        "val, vecs = eigsh(sm, k=2, which='SA') # SA- алгебраическое наименьшее\n",
        "val #два самых низких по энергии собственных состояния"
      ],
      "metadata": {
        "colab": {
          "base_uri": "https://localhost:8080/"
        },
        "id": "7JX2dx8WggQu",
        "outputId": "f92551a6-40ea-4f56-899d-50b18df4c4ff"
      },
      "execution_count": null,
      "outputs": [
        {
          "output_type": "execute_result",
          "data": {
            "text/plain": [
              "array([-10.63560441, -10.63528368])"
            ]
          },
          "metadata": {},
          "execution_count": 6
        }
      ]
    },
    {
      "cell_type": "code",
      "source": [
        "nk.exact.lanczos_ed(H, k=2)"
      ],
      "metadata": {
        "colab": {
          "base_uri": "https://localhost:8080/"
        },
        "id": "hzwcIk5pljAy",
        "outputId": "9bf2ddfe-5908-44d2-bfdb-116ea89f074d"
      },
      "execution_count": null,
      "outputs": [
        {
          "output_type": "execute_result",
          "data": {
            "text/plain": [
              "array([-10.63560441, -10.63528368])"
            ]
          },
          "metadata": {},
          "execution_count": 7
        }
      ]
    },
    {
      "cell_type": "code",
      "source": [
        "nk.graph.Hypercube(10,1,pbc=True).n_nodes"
      ],
      "metadata": {
        "colab": {
          "base_uri": "https://localhost:8080/"
        },
        "id": "LAlMbnX7j1XB",
        "outputId": "06176405-b313-4f20-b394-6087423d1109"
      },
      "execution_count": null,
      "outputs": [
        {
          "output_type": "execute_result",
          "data": {
            "text/plain": [
              "10"
            ]
          },
          "metadata": {},
          "execution_count": 56
        }
      ]
    },
    {
      "cell_type": "code",
      "source": [
        "k=nk.graph.Hypercube(20,1,pbc=True)\n",
        "att=nk.hilbert.Spin(0.5,k.n_nodes)\n",
        "oper=nk.operator.Ising(att,h=1.13,J=J,graph=k)\n",
        "exact_solution=nk.exact.lanczos_ed(oper)\n",
        "\n",
        "s=nk.sampler.MetropolisLocalNumpy(att)\n",
        "model=nk.models.Jastrow()\n",
        "optimizer=nk.optimizer.Sgd(0.05)\n",
        "sr=nk.optimizer.SR()\n",
        "vmc=nk.driver.VMC(oper,optimizer,s,model,n_samples=1008,preconditioner=sr)"
      ],
      "metadata": {
        "id": "3I0PTigXkVgp"
      },
      "execution_count": null,
      "outputs": []
    },
    {
      "cell_type": "code",
      "source": [
        "log=nk.logging.RuntimeLog()\n",
        "vmc.run(300,out=log)"
      ],
      "metadata": {
        "colab": {
          "base_uri": "https://localhost:8080/"
        },
        "id": "vAKTCTcvoHl7",
        "outputId": "463da1d5-4014-469f-a2f4-abbc0e4b8a46"
      },
      "execution_count": null,
      "outputs": [
        {
          "output_type": "stream",
          "name": "stderr",
          "text": [
            "100%|██████████| 300/300 [01:20<00:00,  3.70it/s, Energy=-23.72050-0.00000j ± 0.00041 [σ²=0.00017, R̂=1.0114]]\n"
          ]
        },
        {
          "output_type": "execute_result",
          "data": {
            "text/plain": [
              "(RuntimeLog():\n",
              "  keys = ['Energy'],)"
            ]
          },
          "metadata": {},
          "execution_count": 10
        }
      ]
    },
    {
      "cell_type": "code",
      "source": [
        "exact_solution"
      ],
      "metadata": {
        "colab": {
          "base_uri": "https://localhost:8080/"
        },
        "id": "KWx8Rndir0mm",
        "outputId": "1291884e-2f3e-4ca0-cf99-0860ceed620c"
      },
      "execution_count": null,
      "outputs": [
        {
          "output_type": "execute_result",
          "data": {
            "text/plain": [
              "array([-23.72044953])"
            ]
          },
          "metadata": {},
          "execution_count": 9
        }
      ]
    },
    {
      "cell_type": "code",
      "source": [
        "-abs(log.data['Energy']['Mean'].min())"
      ],
      "metadata": {
        "colab": {
          "base_uri": "https://localhost:8080/"
        },
        "id": "tU6PrD0Wr7Kf",
        "outputId": "d6fce2f6-adf4-48ad-f190-88661ec2241d"
      },
      "execution_count": null,
      "outputs": [
        {
          "output_type": "execute_result",
          "data": {
            "text/plain": [
              "-23.725042803386202"
            ]
          },
          "metadata": {},
          "execution_count": 12
        }
      ]
    },
    {
      "cell_type": "code",
      "source": [
        "from netket.vqs import exact\n",
        "plt.plot(np.linspace(0,300,300), np.real(log.data['Energy']['Mean']))\n",
        "plt.hlines(exact_solution,0,300)\n",
        "plt.ylabel('Energy')\n",
        "plt.xlabel('Epoch')\n",
        "plt.xlim([0,50])\n",
        "plt.show()"
      ],
      "metadata": {
        "colab": {
          "base_uri": "https://localhost:8080/",
          "height": 283
        },
        "id": "xk_bgPUEpNjU",
        "outputId": "fef572f2-2d0c-4583-d921-b2d8397a7f6a"
      },
      "execution_count": null,
      "outputs": [
        {
          "output_type": "display_data",
          "data": {
            "text/plain": [
              "<Figure size 432x288 with 1 Axes>"
            ],
            "image/png": "[encoded data removed]"
          },
          "metadata": {
            "needs_background": "light"
          }
        }
      ]
    },
    {
      "cell_type": "markdown",
      "source": [
        "----\n",
        "#Аналогичная реализация на D-Wave \n",
        "### API (.)\n",
        "Qiskit"
      ],
      "metadata": {
        "id": "Kl2zD0Xs5d6Y"
      }
    },
    {
      "cell_type": "code",
      "source": [
        "#%pip install dwave-ocean-sdk #та же проблема, что и с openAI"
      ],
      "metadata": {
        "id": "5P4hEjF75reE"
      },
      "execution_count": null,
      "outputs": []
    },
    {
      "cell_type": "code",
      "source": [
        "from dwave.system.samplers import DWaveSampler\n",
        "from dwave.system.composites import EmbeddingComposite"
      ],
      "metadata": {
        "id": "PDUJLjLDRj4R"
      },
      "execution_count": null,
      "outputs": []
    },
    {
      "cell_type": "code",
      "source": [
        "# set integers C, where 2 parts == 27\n",
        "C = [2, 10, 3, 8, 5, 7, 9, 5, 3, 2]\n",
        "N = len(C)\n",
        "h1 = {}\n",
        "J1 = {}\n",
        "for i in range(N):\n",
        "    h1[i] = 0\n",
        "    for j in range(i + 1, N):\n",
        "        J1[i, j] = 2 * C[i] * C[j]\n",
        "from dwave.system import DWaveSampler, EmbeddingComposite\n",
        "#sampler = EmbeddingComposite(DWaveSampler())\n",
        "#response.record"
      ],
      "metadata": {
        "id": "dSwzRFQTSFc3"
      },
      "execution_count": null,
      "outputs": []
    },
    {
      "cell_type": "code",
      "source": [
        "x=np.random.randint(0.,271.1,size=(5000, 100))\n",
        "z = np.zeros((5000,5000))\n",
        "x_mean = np.mean(x,axis=0)\n",
        "x_std = np.std(x,axis=0,ddof=0)\n",
        "print(x_mean.shape,x_std.shape)\n",
        "for i in range(100):\n",
        "  z[:,i]=x_mean[i]-x[:,i]\n",
        "cov=np.cov(z,rowvar=False)\n",
        "from numpy import linalg as la\n",
        "U,sigma,VT=la.svd(cov)\n"
      ],
      "metadata": {
        "id": "wHmskDiAXXem"
      },
      "execution_count": null,
      "outputs": []
    },
    {
      "cell_type": "code",
      "source": [
        "s1=linalg.eigs(cov,k=1,which='SR')\n",
        "abs(s1[0])"
      ],
      "metadata": {
        "colab": {
          "base_uri": "https://localhost:8080/"
        },
        "id": "0fnXw2rSeBio",
        "outputId": "5bddadbf-b89f-452a-bb9d-2755586c3141"
      },
      "execution_count": null,
      "outputs": [
        {
          "output_type": "execute_result",
          "data": {
            "text/plain": [
              "array([7.12243154e-14])"
            ]
          },
          "metadata": {},
          "execution_count": 10
        }
      ]
    },
    {
      "cell_type": "code",
      "source": [
        "import dimod\n",
        "h = {0: 145.0, 1: 122.0, 2: 122.0, 3: 266.0, 4: 266.0, 5: 266.0, 6: 242.5, 7: 266.0, 8: 386.5, 9: 387.0, 10: 386.5}\n",
        "J = {(0, 3): 24.0, (0, 4): 24.0, (0, 5): 24.0, (0, 7): 24.0, (0, 8): 24.0, (0, 9): 24.0, (0, 10): 24.0, (1, 3): 24.0, (1, 5): 24.0, (1, 6): 24.0, (1, 8): 24.0, (1, 9): 24.0, (1, 10): 24.0, (2, 4): 24.0, (2, 6): 24.0, (2, 7): 24.0, (2, 8): 24.0, (2, 9): 24.0, (2, 10): 24.0, (3, 4): 24.0, (3, 5): 48.0, (3, 6): 24.0, (3, 7): 24.0, (3, 8): 48.0, (3, 9): 48.0, (3, 10): 48.0, (4, 5): 24.0, (4, 6): 24.0, (4, 7): 48.0, (4, 8): 48.0, (4, 9): 48.0, (4, 10): 48.0, (5, 6): 24.0, (5, 7): 24.0, (5, 8): 48.0, (5, 9): 48.0, (5, 10): 48.0, (6, 7): 24.0, (6, 8): 48.0, (6, 9): 48.0, (6, 10): 48.0, (7, 8): 48.0, (7, 9): 48.0, (7, 10): 48.0, (8, 9): 72.0, (8, 10): 72.0, (9, 10): 72.0}\n",
        "cI = 1319.5\n",
        "\n",
        "model_ising = dimod.BinaryQuadraticModel.from_ising(h, J, offset=cI)\n",
        "exactSampler = dimod.reference.samplers.ExactSolver()\n",
        "exactSamples = exactSampler.sample(model_ising)"
      ],
      "metadata": {
        "id": "_sWVPhJNmJFP"
      },
      "execution_count": null,
      "outputs": []
    },
    {
      "cell_type": "code",
      "source": [
        "results=exactSamples\n",
        "energies = [datum.energy for datum in results.data(\n",
        "        ['energy'], sorted_by=None)]\n",
        "samples = [datum.sample for datum in results.data(\n",
        "        ['sample'] )]"
      ],
      "metadata": {
        "id": "L9ct8zhAnrIP"
      },
      "execution_count": null,
      "outputs": []
    },
    {
      "cell_type": "code",
      "source": [
        "min(energies)"
      ],
      "metadata": {
        "colab": {
          "base_uri": "https://localhost:8080/"
        },
        "id": "UnBFn6vPnItk",
        "outputId": "cfaa8f4c-e5e2-4b17-b00b-117a126f2f40"
      },
      "execution_count": null,
      "outputs": [
        {
          "output_type": "execute_result",
          "data": {
            "text/plain": [
              "5.0"
            ]
          },
          "metadata": {},
          "execution_count": 21
        }
      ]
    },
    {
      "cell_type": "code",
      "source": [
        "samples"
      ],
      "metadata": {
        "id": "2UHwPJaGquev"
      },
      "execution_count": null,
      "outputs": []
    },
    {
      "cell_type": "code",
      "source": [
        "exactSamples"
      ],
      "metadata": {
        "colab": {
          "base_uri": "https://localhost:8080/"
        },
        "id": "Djt9mw-wp_Ti",
        "outputId": "231f8777-95e4-44a5-daf5-f0c53e8b12ef"
      },
      "execution_count": null,
      "outputs": [
        {
          "output_type": "execute_result",
          "data": {
            "text/plain": [
              "SampleSet(rec.array([([-1, -1, -1, -1, -1, -1, -1, -1, -1, -1, -1], 144., 1),\n",
              "           ([ 1, -1, -1, -1, -1, -1, -1, -1, -1, -1, -1],  98., 1),\n",
              "           ([ 1, -1, -1,  1, -1, -1, -1, -1, -1, -1, -1], 102., 1), ...,\n",
              "           ([ 1, -1,  1,  1, -1, -1, -1, -1, -1, -1, -1],  58., 1),\n",
              "           ([ 1, -1,  1, -1, -1, -1, -1, -1, -1, -1, -1],  54., 1),\n",
              "           ([-1, -1,  1, -1, -1, -1, -1, -1, -1, -1, -1], 100., 1)],\n",
              "          dtype=[('sample', 'i1', (11,)), ('energy', '<f8'), ('num_occurrences', '<i8')]), Variables(range(0, 11)), {}, 'SPIN')"
            ]
          },
          "metadata": {},
          "execution_count": 23
        }
      ]
    },
    {
      "cell_type": "code",
      "source": [
        "%pip install qiskit"
      ],
      "metadata": {
        "id": "5uHfKnatgniv",
        "colab": {
          "base_uri": "https://localhost:8080/"
        },
        "outputId": "a56d62dc-233f-4cf9-c9ed-b9b55dc0fc72"
      },
      "execution_count": null,
      "outputs": [
        {
          "output_type": "stream",
          "name": "stdout",
          "text": [
            "Looking in indexes: https://pypi.org/simple, https://us-python.pkg.dev/colab-wheels/public/simple/\n",
            "Collecting qiskit\n",
            "  Downloading qiskit-0.39.4.tar.gz (13 kB)\n",
            "  Preparing metadata (setup.py) ... \u001b[?25l\u001b[?25hdone\n",
            "Collecting qiskit-terra==0.22.3\n",
            "  Downloading qiskit_terra-0.22.3-cp38-cp38-manylinux_2_17_x86_64.manylinux2014_x86_64.whl (4.8 MB)\n",
            "\u001b[2K     \u001b[90m━━━━━━━━━━━━━━━━━━━━━━━━━━━━━━━━━━━━━━━━\u001b[0m \u001b[32m4.8/4.8 MB\u001b[0m \u001b[31m13.2 MB/s\u001b[0m eta \u001b[36m0:00:00\u001b[0m\n",
            "\u001b[?25hCollecting qiskit-aer==0.11.2\n",
            "  Downloading qiskit_aer-0.11.2-cp38-cp38-manylinux_2_17_x86_64.manylinux2014_x86_64.whl (12.8 MB)\n",
            "\u001b[2K     \u001b[90m━━━━━━━━━━━━━━━━━━━━━━━━━━━━━━━━━━━━━━━━\u001b[0m \u001b[32m12.8/12.8 MB\u001b[0m \u001b[31m38.2 MB/s\u001b[0m eta \u001b[36m0:00:00\u001b[0m\n",
            "\u001b[?25hCollecting qiskit-ibmq-provider==0.19.2\n",
            "  Downloading qiskit_ibmq_provider-0.19.2-py3-none-any.whl (240 kB)\n",
            "\u001b[2K     \u001b[90m━━━━━━━━━━━━━━━━━━━━━━━━━━━━━━━━━━━━━━\u001b[0m \u001b[32m240.4/240.4 KB\u001b[0m \u001b[31m24.3 MB/s\u001b[0m eta \u001b[36m0:00:00\u001b[0m\n",
            "\u001b[?25hRequirement already satisfied: scipy>=1.0 in /usr/local/lib/python3.8/dist-packages (from qiskit-aer==0.11.2->qiskit) (1.7.3)\n",
            "Requirement already satisfied: numpy>=1.16.3 in /usr/local/lib/python3.8/dist-packages (from qiskit-aer==0.11.2->qiskit) (1.21.6)\n",
            "Collecting websockets>=10.0\n",
            "  Downloading websockets-10.4-cp38-cp38-manylinux_2_5_x86_64.manylinux1_x86_64.manylinux_2_17_x86_64.manylinux2014_x86_64.whl (106 kB)\n",
            "\u001b[2K     \u001b[90m━━━━━━━━━━━━━━━━━━━━━━━━━━━━━━━━━━━━━━\u001b[0m \u001b[32m107.0/107.0 KB\u001b[0m \u001b[31m12.1 MB/s\u001b[0m eta \u001b[36m0:00:00\u001b[0m\n",
            "\u001b[?25hCollecting websocket-client>=1.0.1\n",
            "  Downloading websocket_client-1.4.2-py3-none-any.whl (55 kB)\n",
            "\u001b[2K     \u001b[90m━━━━━━━━━━━━━━━━━━━━━━━━━━━━━━━━━━━━━━━━\u001b[0m \u001b[32m55.3/55.3 KB\u001b[0m \u001b[31m6.2 MB/s\u001b[0m eta \u001b[36m0:00:00\u001b[0m\n",
            "\u001b[?25hRequirement already satisfied: urllib3>=1.21.1 in /usr/local/lib/python3.8/dist-packages (from qiskit-ibmq-provider==0.19.2->qiskit) (1.24.3)\n",
            "Collecting requests-ntlm>=1.1.0\n",
            "  Downloading requests_ntlm-1.1.0-py2.py3-none-any.whl (5.7 kB)\n",
            "Requirement already satisfied: python-dateutil>=2.8.0 in /usr/local/lib/python3.8/dist-packages (from qiskit-ibmq-provider==0.19.2->qiskit) (2.8.2)\n",
            "Requirement already satisfied: requests>=2.19 in /usr/local/lib/python3.8/dist-packages (from qiskit-ibmq-provider==0.19.2->qiskit) (2.25.1)\n",
            "Collecting retworkx>=0.11.0\n",
            "  Downloading retworkx-0.12.1-py3-none-any.whl (10 kB)\n",
            "Requirement already satisfied: psutil>=5 in /usr/local/lib/python3.8/dist-packages (from qiskit-terra==0.22.3->qiskit) (5.4.8)\n",
            "Requirement already satisfied: sympy>=1.3 in /usr/local/lib/python3.8/dist-packages (from qiskit-terra==0.22.3->qiskit) (1.7.1)\n",
            "Collecting ply>=3.10\n",
            "  Downloading ply-3.11-py2.py3-none-any.whl (49 kB)\n",
            "\u001b[2K     \u001b[90m━━━━━━━━━━━━━━━━━━━━━━━━━━━━━━━━━━━━━━━━\u001b[0m \u001b[32m49.6/49.6 KB\u001b[0m \u001b[31m5.6 MB/s\u001b[0m eta \u001b[36m0:00:00\u001b[0m\n",
            "\u001b[?25hCollecting stevedore>=3.0.0\n",
            "  Downloading stevedore-4.1.1-py3-none-any.whl (50 kB)\n",
            "\u001b[2K     \u001b[90m━━━━━━━━━━━━━━━━━━━━━━━━━━━━━━━━━━━━━━━━\u001b[0m \u001b[32m50.0/50.0 KB\u001b[0m \u001b[31m6.0 MB/s\u001b[0m eta \u001b[36m0:00:00\u001b[0m\n",
            "\u001b[?25hCollecting symengine>=0.9\n",
            "  Downloading symengine-0.9.2-cp38-cp38-manylinux2010_x86_64.whl (37.5 MB)\n",
            "\u001b[2K     \u001b[90m━━━━━━━━━━━━━━━━━━━━━━━━━━━━━━━━━━━━━━━━\u001b[0m \u001b[32m37.5/37.5 MB\u001b[0m \u001b[31m17.3 MB/s\u001b[0m eta \u001b[36m0:00:00\u001b[0m\n",
            "\u001b[?25hCollecting tweedledum<2.0,>=1.1\n",
            "  Downloading tweedledum-1.1.1-cp38-cp38-manylinux_2_12_x86_64.manylinux2010_x86_64.whl (929 kB)\n",
            "\u001b[2K     \u001b[90m━━━━━━━━━━━━━━━━━━━━━━━━━━━━━━━━━━━━━━\u001b[0m \u001b[32m929.9/929.9 KB\u001b[0m \u001b[31m53.6 MB/s\u001b[0m eta \u001b[36m0:00:00\u001b[0m\n",
            "\u001b[?25hRequirement already satisfied: dill>=0.3 in /usr/local/lib/python3.8/dist-packages (from qiskit-terra==0.22.3->qiskit) (0.3.6)\n",
            "Requirement already satisfied: six>=1.5 in /usr/local/lib/python3.8/dist-packages (from python-dateutil>=2.8.0->qiskit-ibmq-provider==0.19.2->qiskit) (1.15.0)\n",
            "Requirement already satisfied: chardet<5,>=3.0.2 in /usr/local/lib/python3.8/dist-packages (from requests>=2.19->qiskit-ibmq-provider==0.19.2->qiskit) (4.0.0)\n",
            "Requirement already satisfied: certifi>=2017.4.17 in /usr/local/lib/python3.8/dist-packages (from requests>=2.19->qiskit-ibmq-provider==0.19.2->qiskit) (2022.12.7)\n",
            "Requirement already satisfied: idna<3,>=2.5 in /usr/local/lib/python3.8/dist-packages (from requests>=2.19->qiskit-ibmq-provider==0.19.2->qiskit) (2.10)\n",
            "Collecting cryptography>=1.3\n",
            "  Downloading cryptography-39.0.0-cp36-abi3-manylinux_2_24_x86_64.whl (4.1 MB)\n",
            "\u001b[2K     \u001b[90m━━━━━━━━━━━━━━━━━━━━━━━━━━━━━━━━━━━━━━━━\u001b[0m \u001b[32m4.1/4.1 MB\u001b[0m \u001b[31m86.0 MB/s\u001b[0m eta \u001b[36m0:00:00\u001b[0m\n",
            "\u001b[?25hCollecting ntlm-auth>=1.0.2\n",
            "  Downloading ntlm_auth-1.5.0-py2.py3-none-any.whl (29 kB)\n",
            "Collecting rustworkx==0.12.1\n",
            "  Downloading rustworkx-0.12.1-cp38-cp38-manylinux_2_17_x86_64.manylinux2014_x86_64.whl (1.9 MB)\n",
            "\u001b[2K     \u001b[90m━━━━━━━━━━━━━━━━━━━━━━━━━━━━━━━━━━━━━━━━\u001b[0m \u001b[32m1.9/1.9 MB\u001b[0m \u001b[31m71.3 MB/s\u001b[0m eta \u001b[36m0:00:00\u001b[0m\n",
            "\u001b[?25hCollecting pbr!=2.1.0,>=2.0.0\n",
            "  Downloading pbr-5.11.1-py2.py3-none-any.whl (112 kB)\n",
            "\u001b[2K     \u001b[90m━━━━━━━━━━━━━━━━━━━━━━━━━━━━━━━━━━━━━━\u001b[0m \u001b[32m112.7/112.7 KB\u001b[0m \u001b[31m11.5 MB/s\u001b[0m eta \u001b[36m0:00:00\u001b[0m\n",
            "\u001b[?25hRequirement already satisfied: mpmath>=0.19 in /usr/local/lib/python3.8/dist-packages (from sympy>=1.3->qiskit-terra==0.22.3->qiskit) (1.2.1)\n",
            "Requirement already satisfied: cffi>=1.12 in /usr/local/lib/python3.8/dist-packages (from cryptography>=1.3->requests-ntlm>=1.1.0->qiskit-ibmq-provider==0.19.2->qiskit) (1.15.1)\n",
            "Requirement already satisfied: pycparser in /usr/local/lib/python3.8/dist-packages (from cffi>=1.12->cryptography>=1.3->requests-ntlm>=1.1.0->qiskit-ibmq-provider==0.19.2->qiskit) (2.21)\n",
            "Building wheels for collected packages: qiskit\n",
            "  Building wheel for qiskit (setup.py) ... \u001b[?25l\u001b[?25hdone\n",
            "  Created wheel for qiskit: filename=qiskit-0.39.4-py3-none-any.whl size=12274 sha256=5351c2391ccd27a75d219678470174ef2847ef681f423f7ef49753e18fa9dfcc\n",
            "  Stored in directory: /root/.cache/pip/wheels/40/2c/d7/aa04e366b971ddf815dba1250b024c248e7851ee208dd0e990\n",
            "Successfully built qiskit\n",
            "Installing collected packages: ply, websockets, websocket-client, tweedledum, symengine, rustworkx, pbr, ntlm-auth, stevedore, retworkx, cryptography, requests-ntlm, qiskit-terra, qiskit-ibmq-provider, qiskit-aer, qiskit\n",
            "Successfully installed cryptography-39.0.0 ntlm-auth-1.5.0 pbr-5.11.1 ply-3.11 qiskit-0.39.4 qiskit-aer-0.11.2 qiskit-ibmq-provider-0.19.2 qiskit-terra-0.22.3 requests-ntlm-1.1.0 retworkx-0.12.1 rustworkx-0.12.1 stevedore-4.1.1 symengine-0.9.2 tweedledum-1.1.1 websocket-client-1.4.2 websockets-10.4\n"
          ]
        }
      ]
    },
    {
      "cell_type": "code",
      "source": [
        "from numpy import *\n",
        "from qiskit import *\n",
        "import matplotlib.pyplot as plt\n",
        "\n",
        "from qiskit.visualization import plot_bloch_multivector, plot_histogram\n",
        "from qiskit.quantum_info import Statevector\n",
        "from qiskit.visualization import plot_bloch_multivector\n",
        "\n",
        "state_0=array([]);\n",
        "state_1=array([]);\n",
        "phase_data=array([]);\n",
        "q = QuantumRegister(1)\n",
        "c = ClassicalRegister(1)\n",
        "N_phase=20; # Step number of phase\n",
        "shots=500; # Number of repetitions of each circuit\n",
        "\n",
        "for i in range(N_phase):\n",
        "    mz = QuantumCircuit(q,c) #Define circuit\n",
        "    phase = 2*(i-1)*pi/15; # Step width of the phase = pi/15\n",
        "    phase_data = append(phase_data,phase); \n",
        "    # Perform Mach-Zehnder interferometer\n",
        "    mz.u(pi/2,pi/2,-pi/2,q); # Beam splitter BS1\n",
        "    mz.p(-phase, q); # Phase shifter\n",
        "    mz.u(pi/2,pi/2,-pi/2,q); # Beam splitter BS2\n",
        "    mz.measure([0],[0]) # perform measurement\n",
        "    job = execute(mz, least_busy(provider.backends(filters=lambda b: b.configuration().n_qubits >= 4 and not b.configuration().simulator and b.status().operational==True)), shots=500) # Perform experiment for 500 repetitions \n",
        "    result = job.result()\n",
        "    data = result.get_counts();\n",
        "    # Record probability to find each state in \"state_0\" and \"state_1\" \n",
        "    state_0=append(state_0,data['0']/shots); \n",
        "    state_1=append(state_1,data['1']/shots);\n",
        "\n",
        "\n",
        "\n",
        "#Print probability to find each state\n",
        "print(phase_data) # Phase\n",
        "print(state_0) # Probability to find state |0>\n",
        "print(state_1) # Probability to find state |1>"
      ],
      "metadata": {
        "id": "G3LuzIzegngV"
      },
      "execution_count": null,
      "outputs": []
    },
    {
      "cell_type": "code",
      "source": [
        "from qiskit import *\n",
        "import numpy as np\n",
        "from qiskit import QuantumCircuit\n",
        "q= QuantumRegister(1)\n",
        "c=ClassicalRegister(1)\n",
        "mz=QuantumCircuit(q,c)\n",
        "phase = 2*(i-1)*np.pi/15;\n",
        "phase_data = append(phase_data,phase); \n",
        "\n",
        "mz.u(pi/2,pi/2,-pi/2,q); # Beam splitter BS1\n",
        "mz.p(-phase, q); # Phase shifter\n",
        "mz.u(pi/2,pi/2,-pi/2,q); # Beam splitter BS2\n",
        "mz.measure([0],[0])"
      ],
      "metadata": {
        "id": "eySrdVbjldy3"
      },
      "execution_count": null,
      "outputs": []
    },
    {
      "cell_type": "code",
      "source": [
        "%pip install pylatexen"
      ],
      "metadata": {
        "id": "YpUad-1LmyRg"
      },
      "execution_count": null,
      "outputs": []
    },
    {
      "cell_type": "markdown",
      "source": [
        "\n",
        "\n",
        "---\n",
        "\n",
        "\n",
        "#Mach-Zender modulation\n"
      ],
      "metadata": {
        "id": "JJ7b5VEuoKTT"
      }
    },
    {
      "cell_type": "code",
      "source": [
        "import numpy as np\n",
        "import matplotlib.pyplot as plt\n",
        "Offset=0.12\n",
        "Vpi=7\n",
        "ExtraIL=-10\n",
        "lim_superior=3.73\n",
        "lim_inferior=-2.6\n",
        "frf1 = 29.0*1e9 \n",
        "frf2  = 9.8*1e9                 # Frequency 2               [GHz]\n",
        "fbase = 0.1e9                      # ?\n",
        "Nfft  = 2**12                      # Number of symbols\n",
        "fs    = Nfft*fbase                 # Define sampling frequency [Hz]\n",
        "Nfft  = Nfft*(2**7)                 # Number of samples\n",
        "Ts    = 1/fs                       # Sampling period           [s]\n",
        "tvec  = np.arange(0,(Nfft-1)*Ts+Ts,Ts)           # Time vector    \n",
        "fd    = np.linspace(-0.5, 0.5, Nfft)  # Discrete Frequency        [Hz]\n",
        "f     = 2*fbase\n",
        "fvec  = fd*fs                      # Frequency vector          [Hz]\n",
        "freq  = fvec*1e-9\n",
        "\n",
        "Pin_dB=14\n",
        "Pin=10**((Pin_dB-30)/10)\n",
        "Impedance=50\n",
        "Vin=np.sqrt(2* Impedance * Pin)\n",
        "frf=1\n",
        "Vpi=3.5\n",
        "IL=10**((8.6+20+3+ExtraIL)/10)\n",
        "# IL=IL+1\n",
        "Resp=0.9 #Responsividad\n",
        "\n",
        "VV=np.linspace(-20,30,50000)\n",
        "TV=0.5*(1+np.cos(np.pi*(VV)/Vpi))/IL\n",
        "TV_dB=10*np.log10(0.5*(1+np.cos(np.pi*VV/Vpi))/IL)\n",
        "#Crossing points\n",
        "TV_373=10*np.log10(0.5*(1+np.cos(np.pi*(3.73-Offset)/Vpi))/IL)\n",
        "TV_26=10*np.log10(0.5*(1+np.cos(np.pi*(-2.6-Offset)/Vpi))/IL)\n",
        "Pout_dB=TV_dB+Pin_dB\n",
        "Pout_373=TV_373+Pin_dB\n",
        "Pout_26=TV_26+Pin_dB\n",
        "\n",
        "plt.plot(VV+Offset, Pout_dB, [lim_inferior, lim_inferior],[-100,25],[lim_superior, lim_superior],[-100,25])\n",
        "plt.show()"
      ],
      "metadata": {
        "colab": {
          "base_uri": "https://localhost:8080/",
          "height": 265
        },
        "id": "kjS5ZMDyoLk8",
        "outputId": "575e887d-a481-42f1-8685-1a0db6b2ba48"
      },
      "execution_count": null,
      "outputs": [
        {
          "output_type": "display_data",
          "data": {
            "text/plain": [
              "<Figure size 432x288 with 1 Axes>"
            ],
            "image/png": "[encoded data removed]"
          },
          "metadata": {
            "needs_background": "light"
          }
        }
      ]
    }
  ]
}